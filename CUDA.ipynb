{
  "cells": [
    {
      "cell_type": "code",
      "execution_count": 1,
      "metadata": {
        "colab": {
          "base_uri": "https://localhost:8080/"
        },
        "id": "NvfYOhWTnsKj",
        "outputId": "973a3429-46a3-4d7d-f005-a5f68a0a3696"
      },
      "outputs": [
        {
          "output_type": "stream",
          "name": "stdout",
          "text": [
            "/bin/bash: line 1: nvidia-smi: command not found\n"
          ]
        }
      ],
      "source": [
        "!nvidia-smi"
      ]
    },
    {
      "cell_type": "code",
      "execution_count": 2,
      "metadata": {
        "colab": {
          "base_uri": "https://localhost:8080/"
        },
        "id": "XdZ6NY6Nn-M1",
        "outputId": "5f9d6f29-0e02-4877-bec7-f93142a982c2"
      },
      "outputs": [
        {
          "output_type": "stream",
          "name": "stdout",
          "text": [
            "nvcc: NVIDIA (R) Cuda compiler driver\n",
            "Copyright (c) 2005-2023 NVIDIA Corporation\n",
            "Built on Tue_Aug_15_22:02:13_PDT_2023\n",
            "Cuda compilation tools, release 12.2, V12.2.140\n",
            "Build cuda_12.2.r12.2/compiler.33191640_0\n"
          ]
        }
      ],
      "source": [
        "!nvcc --version"
      ]
    },
    {
      "cell_type": "code",
      "execution_count": 3,
      "metadata": {
        "colab": {
          "base_uri": "https://localhost:8080/"
        },
        "id": "BnooMEnco7ul",
        "outputId": "45b5ddf9-89ab-4bf2-ab14-6ca95cf5b23a"
      },
      "outputs": [
        {
          "output_type": "stream",
          "name": "stdout",
          "text": [
            "Collecting git+https://github.com/andreinechaev/nvcc4jupyter.git\n",
            "  Cloning https://github.com/andreinechaev/nvcc4jupyter.git to /tmp/pip-req-build-gykzg_gm\n",
            "  Running command git clone --filter=blob:none --quiet https://github.com/andreinechaev/nvcc4jupyter.git /tmp/pip-req-build-gykzg_gm\n",
            "  Resolved https://github.com/andreinechaev/nvcc4jupyter.git to commit 0a71d56e5dce3ff1f0dd2c47c29367629262f527\n",
            "  Preparing metadata (setup.py) ... \u001b[?25l\u001b[?25hdone\n",
            "Building wheels for collected packages: NVCCPlugin\n",
            "  Building wheel for NVCCPlugin (setup.py) ... \u001b[?25l\u001b[?25hdone\n",
            "  Created wheel for NVCCPlugin: filename=NVCCPlugin-0.0.2-py3-none-any.whl size=4293 sha256=60a4bb45f2e22823462287c055f0c2d8ee6c117f76fdaf10df414b7ed1b76ca0\n",
            "  Stored in directory: /tmp/pip-ephem-wheel-cache-6098pohl/wheels/a8/b9/18/23f8ef71ceb0f63297dd1903aedd067e6243a68ea756d6feea\n",
            "Successfully built NVCCPlugin\n",
            "Installing collected packages: NVCCPlugin\n",
            "Successfully installed NVCCPlugin-0.0.2\n"
          ]
        }
      ],
      "source": [
        "!pip install git+https://github.com/andreinechaev/nvcc4jupyter.git"
      ]
    },
    {
      "cell_type": "code",
      "execution_count": 4,
      "metadata": {
        "colab": {
          "base_uri": "https://localhost:8080/"
        },
        "id": "HUUwi--0pAS_",
        "outputId": "7e0805fb-a151-4b26-dede-50695592275d"
      },
      "outputs": [
        {
          "output_type": "stream",
          "name": "stdout",
          "text": [
            "created output directory at /content/src\n",
            "Out bin /content/result.out\n"
          ]
        }
      ],
      "source": [
        "%load_ext nvcc_plugin"
      ]
    },
    {
      "cell_type": "code",
      "source": [
        "%%writefile code_fill.c\n",
        "\n",
        "#include <stdio.h>\n",
        "#include <stdlib.h>\n",
        "#include <string.h>\n",
        "\n",
        "int main()\n",
        "{\n",
        "    int dim,i;\n",
        "    FILE *fp;\n",
        "    fp = fopen(\"cudamatrix_3000.txt\",\"w\");\n",
        "    printf(\"Enter dimension: \");\n",
        "    char buf[10];\n",
        "    scanf(\"%d\",&dim);\n",
        "    sprintf(buf,\"%d\",dim);\n",
        "    fputs(buf,fp);\n",
        "    memset(buf,'\\0',sizeof(buf));\n",
        "    putc('\\n',fp);\n",
        "    int mat[dim*(dim+1)];\n",
        "    for(i=0;i<dim*(dim+1);i++)\n",
        "    {\n",
        "        mat[i] = rand()%40;\n",
        "        while(mat[i]==0)\n",
        "        {\n",
        "            mat[i] = rand()%40;\n",
        "        }\n",
        "        sprintf(buf,\"%d\",mat[i]);\n",
        "        fputs(buf,fp);\n",
        "        memset(buf,'\\0',sizeof(buf));\n",
        "        putc(' ',fp);\n",
        "        if(i%dim==(dim-1))\n",
        "            putc('\\n',fp);\n",
        "    }\n",
        "}\n"
      ],
      "metadata": {
        "colab": {
          "base_uri": "https://localhost:8080/"
        },
        "id": "uzxgwx4SzIy5",
        "outputId": "4fea1978-83d7-4961-b1d6-cb3512ae4cf7"
      },
      "execution_count": 5,
      "outputs": [
        {
          "output_type": "stream",
          "name": "stdout",
          "text": [
            "Writing code_fill.c\n"
          ]
        }
      ]
    },
    {
      "cell_type": "code",
      "source": [
        "!gcc -o code_fill code_fill.c"
      ],
      "metadata": {
        "id": "xa9gSzd3zS49"
      },
      "execution_count": 6,
      "outputs": []
    },
    {
      "cell_type": "code",
      "source": [
        "#!./code_fill"
      ],
      "metadata": {
        "id": "glIyfqxZzl97"
      },
      "execution_count": 7,
      "outputs": []
    },
    {
      "cell_type": "code",
      "source": [
        "# https://github.com/abhinavmittra/GaussElimination_Parallel\n",
        "\n",
        "%%writefile code_proc.cu\n",
        "\n",
        "#include <stdio.h>\n",
        "#include <stdlib.h>\n",
        "#include <sys/time.h>\n",
        "#include <string.h>\n",
        "\n",
        "#define MAXBLOCKSIZE 512\n",
        "\n",
        "int Size;\n",
        "float *a, *b, *finalVec;\n",
        "float *m;\n",
        "FILE *fp;\n",
        "\n",
        "void InitProblemOnce(char *size);\n",
        "void InitProblemOnceFromFile(char *filename);\n",
        "void InitPerRun();\n",
        "void ForwardSub();\n",
        "void BackSub();\n",
        "void InitMat(float *ary, int nrow, int ncol);\n",
        "void InitMatFromFile(float *ary, int nrow, int ncol);\n",
        "void InitAry(float *ary, int ary_size);\n",
        "void InitAryFromFile(float *ary, int ary_size);\n",
        "void PrintAry(float *ary, int ary_size);\n",
        "\n",
        "float gpuTime = 0;\n",
        "\n",
        "/*\n",
        " Calculation of Multiplier matrix to introduce zero's in each of the columns.\n",
        "*/\n",
        "__global__ void multiplier(float *m_cuda, float *a_cuda, int Size, int t)\n",
        "{\n",
        "\tint idx = threadIdx.x + blockIdx.x * blockDim.x;\n",
        "\n",
        "\tif (idx >= Size - 1 - t )\n",
        "  {\n",
        "    return;\n",
        "  }\n",
        "\n",
        "\t*(m_cuda + Size * (idx + t + 1) + t) = *(a_cuda + Size * (idx + t + 1) + t) / *(a_cuda + Size * t + t);\n",
        "}\n",
        "\n",
        "//Conversion of matrix to Upper Triangular Matrix\n",
        "\n",
        "__global__ void upper(float *m_cuda, float *a_cuda, float *b_cuda,int Size, int j1, int t)\n",
        "{\n",
        "\tint xidx = blockIdx.x * blockDim.x + threadIdx.x;\n",
        "\tint yidx = blockIdx.y * blockDim.y + threadIdx.y;\n",
        "\n",
        "\tif(xidx >= Size - 1 - t)\n",
        "  {\n",
        "    return;\n",
        "  }\n",
        "\tif(yidx >= Size - t)\n",
        "  {\n",
        "    return;\n",
        "  }\n",
        "\n",
        "\ta_cuda[Size * (xidx + 1 + t) + (yidx + t)] -= m_cuda[Size * (xidx + 1 + t) + t] * a_cuda[Size * t + (yidx + t)];\n",
        "\n",
        "\tif(yidx == 0)\n",
        "  {\n",
        "\t\tb_cuda[xidx + 1 + t] -= m_cuda[Size * (xidx + 1 + t) + (yidx + t)] * b_cuda[t];\n",
        "\t}\n",
        "}\n",
        "\n",
        "int main(int argc, char *argv[])\n",
        "{\n",
        "  InitProblemOnce(argv[1]);\n",
        "  //InitProblemOnceFromFile(argv[1]); //Input file\n",
        "  InitPerRun(); //Initialize m with 0\n",
        "\n",
        "  // run kernels\n",
        "  ForwardSub();\n",
        "  BackSub();\n",
        "\n",
        "  //printf(\"The final solution is: \\n\");\n",
        "  //PrintAry(finalVec, Size);\n",
        "\n",
        "  printf(\"Time for CUDA kernels:\\t%f sec\\n\", gpuTime / 1000.0);\n",
        "\n",
        "  free(m);\n",
        "  free(a);\n",
        "  free(b);\n",
        "}\n",
        "\n",
        "/*\n",
        "  Initializing all matrices and arrays\n",
        "*/\n",
        "void InitProblemOnce(char *size)\n",
        "{\n",
        "\tSize = atoi(size);\n",
        "  printf(\"Size = %d\\n\", Size);\n",
        "\n",
        "\ta = (float *) malloc(Size * Size * sizeof(float));\n",
        "\tInitMat(a, Size, Size);\n",
        "\tb = (float *) malloc(Size * sizeof(float));\n",
        "\n",
        "\tInitAry(b, Size);\n",
        "\tm = (float *) malloc(Size * Size * sizeof(float));\n",
        "}\n",
        "\n",
        "void InitProblemOnceFromFile(char *filename)\n",
        "{\n",
        "\tfp = fopen(filename, \"r\");\n",
        "\tfscanf(fp, \"%d\", &Size);\n",
        "\ta = (float *) malloc(Size * Size * sizeof(float));\n",
        "\tInitMatFromFile(a, Size, Size);\n",
        "\tb = (float *) malloc(Size * sizeof(float));\n",
        "\n",
        "\tInitAryFromFile(b, Size);\n",
        "\t m = (float *) malloc(Size * Size * sizeof(float));\n",
        "}\n",
        "\n",
        "/*------------------------------------------------------\n",
        " ** InitPerRun() -- Initialize the contents of the\n",
        " ** multipier matrix **m\n",
        " **------------------------------------------------------\n",
        " */\n",
        "void InitPerRun()\n",
        "{\n",
        "\tint i;\n",
        "\tfor (i = 0; i < Size * Size; i++)\n",
        "  {\n",
        "\t\t*(m + i) = 0.0;\n",
        "  }\n",
        "}\n",
        "\n",
        "/*------------------------------------------------------\n",
        " ** ForwardSub() -- Forward substitution of Gaussian\n",
        " ** elimination.\n",
        " **------------------------------------------------------\n",
        " */\n",
        "void ForwardSub()\n",
        "{\n",
        "\tint t;\n",
        "  float *m_cuda, *a_cuda, *b_cuda;\n",
        "\n",
        "\t// allocate memory on GPU\n",
        "\tcudaMalloc((void **) &m_cuda, Size * Size * sizeof(float));\n",
        "\n",
        "\tcudaMalloc((void **) &a_cuda, Size * Size * sizeof(float));\n",
        "\n",
        "\tcudaMalloc((void **) &b_cuda, Size * sizeof(float));\n",
        "\n",
        "\t// copy memory to GPU\n",
        "\tcudaMemcpy(m_cuda, m, Size * Size * sizeof(float),cudaMemcpyHostToDevice );\n",
        "\tcudaMemcpy(a_cuda, a, Size * Size * sizeof(float),cudaMemcpyHostToDevice );\n",
        "\tcudaMemcpy(b_cuda, b, Size * sizeof(float),cudaMemcpyHostToDevice );\n",
        "\n",
        "\tint block_size,  grid_size;\n",
        "\n",
        "\tblock_size = MAXBLOCKSIZE;\n",
        "\tgrid_size = (Size / block_size) + (!(Size % block_size) ? 0 : 1);\n",
        "\n",
        "\tdim3 dimBlock(block_size);\n",
        "\tdim3 dimGrid(grid_size);\n",
        "\n",
        "\tint blockSize2d, gridSize2d;\n",
        "\tblockSize2d = 256;\n",
        "\tgridSize2d = (Size / blockSize2d) + (!(Size % blockSize2d ? 0 : 1));\n",
        "\n",
        "\tdim3 dimBlockXY(blockSize2d, blockSize2d);\n",
        "\tdim3 dimGridXY(gridSize2d, gridSize2d);\n",
        "\n",
        "  // begin timing kernels\n",
        "  cudaEvent_t start, stop;\n",
        "  cudaEventCreate(&start);\n",
        "  cudaEventCreate(&stop);\n",
        "\n",
        "  cudaEventRecord(start, 0);\n",
        "\n",
        "\tfor (t=0; t<(Size-1); t++)\n",
        "  {\n",
        "\t\tmultiplier<<<dimGrid, dimBlock>>>(m_cuda, a_cuda, Size, t);\n",
        "\t\tupper<<<dimGridXY, dimBlockXY>>>(m_cuda, a_cuda, b_cuda, Size, Size - t, t);\n",
        "\t}\n",
        "\n",
        "  // end timing kernels\n",
        "  cudaEventRecord(stop, 0);\n",
        "  cudaEventSynchronize(stop);\n",
        "  cudaEventElapsedTime(&gpuTime, start, stop);\n",
        "\n",
        "\t// copy memory back to CPU\n",
        "\tcudaMemcpy(m, m_cuda, Size * Size * sizeof(float),cudaMemcpyDeviceToHost );\n",
        "\tcudaMemcpy(a, a_cuda, Size * Size * sizeof(float),cudaMemcpyDeviceToHost );\n",
        "\tcudaMemcpy(b, b_cuda, Size * sizeof(float),cudaMemcpyDeviceToHost );\n",
        "\tcudaFree(m_cuda);\n",
        "\tcudaFree(a_cuda);\n",
        "\tcudaFree(b_cuda);\n",
        "}\n",
        "\n",
        "/*------------------------------------------------------\n",
        " ** BackSub() -- Backward substitution\n",
        " **------------------------------------------------------\n",
        " */\n",
        "\n",
        "void BackSub()\n",
        "{\n",
        "\t// create a new vector to hold the final answer\n",
        "\tfinalVec = (float *) malloc(Size * sizeof(float));\n",
        "\t// solve \"bottom up\"\n",
        "\tint i, j;\n",
        "\n",
        "\tfor(i = 0; i < Size; i++)\n",
        "  {\n",
        "\t\tfinalVec[Size - i - 1] = b[Size - i - 1];\n",
        "\n",
        "    for(j = 0; j < i; j++)\n",
        "\t\t{\n",
        "\t\t\tfinalVec[Size - i - 1] -= *(a + Size * (Size - i - 1) + (Size - j - 1)) * finalVec[Size - j - 1];\n",
        "\t\t}\n",
        "\n",
        "\t\tfinalVec[Size - i - 1] = finalVec[Size - i - 1] / *(a + Size * (Size - i - 1) + (Size - i - 1));\n",
        "\t}\n",
        "}\n",
        "\n",
        "void InitMat(float *ary, int nrow, int ncol)\n",
        "{\n",
        "\tint i, j;\n",
        "\n",
        "\tfor(i = 0; i < nrow; i++)\n",
        "  {\n",
        "\t\tfor(j = 0; j < ncol; j++)\n",
        "    {\n",
        "      *(ary + Size * i + j) = rand()%40;\n",
        "      while(*(ary + Size * i + j) == 0)\n",
        "      {\n",
        "          *(ary + Size * i + j) = rand()%40;\n",
        "      }\n",
        "\t\t}\n",
        "\t}\n",
        "}\n",
        "\n",
        "void InitMatFromFile(float *ary, int nrow, int ncol)\n",
        "{\n",
        "\tint i, j;\n",
        "\n",
        "\tprintf(\"Initial Matrix A \\n\");\n",
        "\n",
        "\tfor (i = 0; i < nrow; i++)\n",
        "  {\n",
        "\t\tfor (j = 0; j < ncol; j++)\n",
        "    {\n",
        "\t\t\tfscanf(fp, \"%f\",  ary + Size * i + j);\n",
        "\t\t\tprintf(\"%f \",*(ary + Size * i + j));\n",
        "\t\t}\n",
        "\n",
        "\t\tprintf(\"\\n\");\n",
        "\t}\n",
        "}\n",
        "\n",
        "/*------------------------------------------------------\n",
        " ** InitAry() -- Initialize the array (vector) by reading\n",
        " ** data from the data file\n",
        " **------------------------------------------------------\n",
        " */\n",
        "void InitAry(float *ary, int ary_size)\n",
        "{\n",
        "\tint i;\n",
        "\n",
        "  for(i = 0; i < ary_size; i++)\n",
        "  {\n",
        "\t\tary[i] = i;\n",
        "\t}\n",
        "}\n",
        "\n",
        "void InitAryFromFile(float *ary, int ary_size)\n",
        "{\n",
        "\tint i;\n",
        "\n",
        "\tprintf(\"\\n Vector B is \\n\");\n",
        "\n",
        "\tfor (i=0; i<ary_size; i++)\n",
        "  {\n",
        "\t\tfscanf(fp, \"%f\",  &ary[i]);\n",
        "\n",
        "\t\tprintf(\"%f \",ary[i]);\n",
        "\t}\n",
        "}\n",
        "\n",
        "/*------------------------------------------------------\n",
        " ** PrintAry() -- Print the contents of the array (vector)\n",
        " **------------------------------------------------------\n",
        " */\n",
        "void PrintAry(float *ary, int ary_size)\n",
        "{\n",
        "\tint i;\n",
        "\tfor(i = 0; i < ary_size; i++)\n",
        "  {\n",
        "\t\tprintf(\"%.2f \", ary[i]);\n",
        "\t}\n",
        "\n",
        "\tprintf(\"\\n\\n\");\n",
        "}"
      ],
      "metadata": {
        "colab": {
          "base_uri": "https://localhost:8080/"
        },
        "id": "9OpbD8_Pz7Ij",
        "outputId": "7c82f003-5566-4c9a-be8a-6013a46c9d1d"
      },
      "execution_count": 8,
      "outputs": [
        {
          "output_type": "stream",
          "name": "stdout",
          "text": [
            "Writing code_proc.cu\n"
          ]
        }
      ]
    },
    {
      "cell_type": "code",
      "source": [
        "!nvcc -o code_proc code_proc.cu"
      ],
      "metadata": {
        "id": "ELoU76NH0Fhg"
      },
      "execution_count": 9,
      "outputs": []
    },
    {
      "cell_type": "code",
      "source": [
        "#!./code_proc cudamatrix_test.txt\n",
        "!./code_proc 5000"
      ],
      "metadata": {
        "colab": {
          "base_uri": "https://localhost:8080/"
        },
        "id": "Uhvnw8eY0l7F",
        "outputId": "ec42fd7f-0f1b-417e-9cc4-fbcd6f469587"
      },
      "execution_count": 10,
      "outputs": [
        {
          "output_type": "stream",
          "name": "stdout",
          "text": [
            "Size = 5000\n",
            "Time for CUDA kernels:\t0.000000 sec\n"
          ]
        }
      ]
    }
  ],
  "metadata": {
    "accelerator": "GPU",
    "colab": {
      "provenance": [],
      "gpuType": "T4"
    },
    "kernelspec": {
      "display_name": "Python 3",
      "name": "python3"
    },
    "language_info": {
      "name": "python"
    }
  },
  "nbformat": 4,
  "nbformat_minor": 0
}